{
 "cells": [
  {
   "cell_type": "code",
   "execution_count": null,
   "metadata": {},
   "outputs": [],
   "source": [
    "\n",
    "import transformers\n",
    "\n",
    "\n",
    "model: transformers.PreTrainedModel = transformers.AutoModel.from_pretrained(\"gpt2\")\n",
    "import torch\n",
    "\n",
    "t = torch.randint(0, model.config.vocab_size, (1, 10))\n",
    "\n",
    "\n",
    "\n",
    "target_ids = [0, 1]\n",
    "embed = model.get_input_embeddings()(t)\n",
    "# embed = model.transformer.wte(t)\n",
    "\n",
    "response = model(input_ids=t)\n",
    "logits = response\n",
    "\n",
    "print(response.__dict__.keys())\n",
    "\n",
    "targets = t[target_ids]\n",
    "\n",
    "## LOSS\n",
    "loss = torch.nn.CrossEntropyLoss()\n",
    "print(\"LOSS\", loss(logits, targets))\n",
    "\n",
    "\n",
    "embed.shape\n",
    "\n",
    "\n",
    "# one_hot = torch.zeros(\n",
    "#     (1, 10, model.config.vocab_size),\n",
    "# )\n",
    "# one_hot.scatter_(2, t.unsqueeze(2), 1.0)\n",
    "# model(one_hot)\n",
    "\n",
    "\n",
    "\n",
    "# one_hot = torch.zeros(\n",
    "#             input_tokens.shape[0],\n",
    "#             self.embbeding_matrix.shape[0],\n",
    "#             device=self.model.device,\n",
    "#             requires_grad=True\n",
    "#         )\n",
    "\n",
    "\n",
    "t = torch.randint(0, model.config.vocab_size, (1, 10))\n",
    "\n",
    "l = []\n",
    "\n",
    "from nqgl.mlutils.norepr import fastpartial\n",
    "\n",
    "\n",
    "def test_hook(module, input, output, l):\n",
    "    output.requires_grad = True\n",
    "    l.append(output)\n",
    "\n",
    "\n",
    "hook = fastpartial(test_hook, l=l)\n",
    "model.get_input_embeddings().register_forward_hook(hook)\n",
    "logits = model(t)\n",
    "loss = logits.abs().sum()\n",
    "loss.backward()\n",
    "print(l[0].grad)\n",
    "\n"
   ]
  },
  {
   "cell_type": "code",
   "execution_count": null,
   "metadata": {},
   "outputs": [],
   "source": [
    "response['last_hidden_state'].shape"
   ]
  }
 ],
 "metadata": {
  "kernelspec": {
   "display_name": "Python 3",
   "language": "python",
   "name": "python3"
  },
  "language_info": {
   "codemirror_mode": {
    "name": "ipython",
    "version": 3
   },
   "file_extension": ".py",
   "mimetype": "text/x-python",
   "name": "python",
   "nbconvert_exporter": "python",
   "pygments_lexer": "ipython3",
   "version": "3.10.12"
  }
 },
 "nbformat": 4,
 "nbformat_minor": 2
}
