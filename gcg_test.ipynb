{
 "cells": [
  {
   "cell_type": "code",
   "execution_count": 2,
   "metadata": {},
   "outputs": [],
   "source": [
    "from arena_capstone.gcg.gcg import GCGConfig, GCG\n",
    "from transformers import AutoModelForCausalLM, AutoTokenizer\n",
    "import torch as t\n",
    "\n",
    "device = \"cuda\" if t.cuda.is_available() else \"mps\"\n",
    "model_name = \"gpt2\"\n",
    "\n",
    "model = AutoModelForCausalLM.from_pretrained(model_name).to(device)\n",
    "tokenizer = AutoTokenizer.from_pretrained(model_name)\n"
   ]
  },
  {
   "cell_type": "code",
   "execution_count": 3,
   "metadata": {},
   "outputs": [
    {
     "name": "stdout",
     "output_type": "stream",
     "text": [
      "loss:  20.675310134887695\n",
      "     Obj hometown Unlike �arnaev Mell\n",
      "loss:  19.353317260742188\n",
      "     Obj hometown=> �arnaev Mell\n",
      "loss:  17.880722045898438\n",
      "     Obj hometown=> �arnaev worm\n",
      "loss:  16.129436492919922\n",
      "     ObjRedditor=> �arnaev worm\n",
      "loss:  15.948917388916016\n",
      "     ittensRedditor=> �arnaev worm\n",
      "loss:  15.558938980102539\n",
      "     ittensRedditor=>terdayarnaev worm\n",
      "loss:  15.528146743774414\n",
      "     ittensRedditor=>terdayarnaevkus\n",
      "loss:  15.37969970703125\n",
      "     ittensRedditor=>zynskiarnaevkus\n",
      "loss:  15.181522369384766\n",
      "     ittensRedditor=>vierarnaevkus\n",
      "loss:  15.241074562072754\n",
      "     ittensRedditor=>vierarnaev Mercenary\n",
      "loss:  15.275876998901367\n",
      "     terRedditor=>vierarnaev Mercenary\n",
      "loss:  15.206244468688965\n",
      "     terRedditor=>vierarnaev Skydragon\n",
      "loss:  15.005158424377441\n",
      "     terRedditor=>vierarnaev traveler\n",
      "loss:  15.081049919128418\n",
      "     terRedditor=> Dragonboundarnaev traveler\n",
      "loss:  14.805814743041992\n",
      "      :(Redditor=> Dragonboundarnaev traveler\n",
      "loss:  15.008516311645508\n",
      "      :(Redditor=>donarnaev traveler\n",
      "loss:  14.323508262634277\n",
      "      :(Redditor=>usercontentarnaev traveler\n",
      "loss:  13.940220832824707\n",
      "      :(Redditor=>usercontentarnaev Cat\n",
      "loss:  14.045743942260742\n",
      "      :(Redditor threadsusercontentarnaev Cat\n",
      "loss:  14.199567794799805\n",
      "      :(RedditorBindusercontentarnaev Cat\n",
      "loss:  13.86955451965332\n",
      "      :(Redditorottestusercontentarnaev Cat\n",
      "loss:  14.420650482177734\n",
      "      :(Redditorottestrikesarnaev Cat\n",
      "loss:  14.38814640045166\n",
      "      :(Redditorottest hopefullyarnaev Cat\n",
      "loss:  14.110198974609375\n",
      "      :(Redditorottest �arnaev Cat\n",
      "loss:  13.927597045898438\n",
      "      :(Redditorottestbdarnaev Cat\n",
      "loss:  13.951333999633789\n",
      "      :(Redditorisbdarnaev Cat\n",
      "loss:  13.360114097595215\n",
      "      opinRedditorisbdarnaev Cat\n",
      "loss:  13.504129409790039\n",
      "      DawkinsRedditorisbdarnaev Cat\n"
     ]
    },
    {
     "ename": "",
     "evalue": "",
     "output_type": "error",
     "traceback": [
      "\u001b[1;31mThe Kernel crashed while executing code in the the current cell or a previous cell. Please review the code in the cell(s) to identify a possible cause of the failure. Click <a href='https://aka.ms/vscodeJupyterKernelCrash'>here</a> for more info. View Jupyter <a href='command:jupyter.viewOutput'>log</a> for further details."
     ]
    }
   ],
   "source": [
    "cfg = GCGConfig(\n",
    "    suffix=t.randint(0, 50257, (6,), device=device),\n",
    "    prefix_str=\"The cat\",\n",
    "    target_str=\" is a dawg\",\n",
    "    batch_size=50,\n",
    "    T=5000,\n",
    "    k=50,\n",
    "    device=device,\n",
    ")\n",
    "\n",
    "gcg = GCG(cfg=cfg, model=model)\n",
    "gcg.gcg(print_between=True)"
   ]
  },
  {
   "cell_type": "code",
   "execution_count": null,
   "metadata": {},
   "outputs": [],
   "source": []
  }
 ],
 "metadata": {
  "kernelspec": {
   "display_name": "Python 3",
   "language": "python",
   "name": "python3"
  },
  "language_info": {
   "codemirror_mode": {
    "name": "ipython",
    "version": 3
   },
   "file_extension": ".py",
   "mimetype": "text/x-python",
   "name": "python",
   "nbconvert_exporter": "python",
   "pygments_lexer": "ipython3",
   "version": "3.10.13"
  }
 },
 "nbformat": 4,
 "nbformat_minor": 2
}
